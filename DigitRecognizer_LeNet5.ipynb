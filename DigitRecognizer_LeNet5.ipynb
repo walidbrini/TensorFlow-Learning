{
  "metadata": {
    "kernelspec": {
      "language": "python",
      "display_name": "Python 3",
      "name": "python3"
    },
    "language_info": {
      "name": "python",
      "version": "3.10.12",
      "mimetype": "text/x-python",
      "codemirror_mode": {
        "name": "ipython",
        "version": 3
      },
      "pygments_lexer": "ipython3",
      "nbconvert_exporter": "python",
      "file_extension": ".py"
    },
    "kaggle": {
      "accelerator": "none",
      "dataSources": [
        {
          "sourceId": 3004,
          "databundleVersionId": 861823,
          "sourceType": "competition"
        }
      ],
      "dockerImageVersionId": 30635,
      "isInternetEnabled": false,
      "language": "python",
      "sourceType": "notebook",
      "isGpuEnabled": false
    },
    "colab": {
      "name": "DigitRecognizer LeNet5",
      "provenance": [],
      "include_colab_link": true
    }
  },
  "nbformat_minor": 0,
  "nbformat": 4,
  "cells": [
    {
      "cell_type": "markdown",
      "metadata": {
        "id": "view-in-github",
        "colab_type": "text"
      },
      "source": [
        "<a href=\"https://colab.research.google.com/github/walidbrini/TensorFlow-Learning/blob/main/DigitRecognizer_LeNet5.ipynb\" target=\"_parent\"><img src=\"https://colab.research.google.com/assets/colab-badge.svg\" alt=\"Open In Colab\"/></a>"
      ]
    },
    {
      "source": [
        "\n",
        "# IMPORTANT: RUN THIS CELL IN ORDER TO IMPORT YOUR KAGGLE DATA SOURCES\n",
        "# TO THE CORRECT LOCATION (/kaggle/input) IN YOUR NOTEBOOK,\n",
        "# THEN FEEL FREE TO DELETE THIS CELL.\n",
        "# NOTE: THIS NOTEBOOK ENVIRONMENT DIFFERS FROM KAGGLE'S PYTHON\n",
        "# ENVIRONMENT SO THERE MAY BE MISSING LIBRARIES USED BY YOUR\n",
        "# NOTEBOOK.\n",
        "\n",
        "import os\n",
        "import sys\n",
        "from tempfile import NamedTemporaryFile\n",
        "from urllib.request import urlopen\n",
        "from urllib.parse import unquote, urlparse\n",
        "from urllib.error import HTTPError\n",
        "from zipfile import ZipFile\n",
        "import tarfile\n",
        "import shutil\n",
        "\n",
        "CHUNK_SIZE = 40960\n",
        "DATA_SOURCE_MAPPING = 'digit-recognizer:https%3A%2F%2Fstorage.googleapis.com%2Fkaggle-competitions-data%2Fkaggle-v2%2F3004%2F861823%2Fbundle%2Farchive.zip%3FX-Goog-Algorithm%3DGOOG4-RSA-SHA256%26X-Goog-Credential%3Dgcp-kaggle-com%2540kaggle-161607.iam.gserviceaccount.com%252F20240413%252Fauto%252Fstorage%252Fgoog4_request%26X-Goog-Date%3D20240413T134802Z%26X-Goog-Expires%3D259200%26X-Goog-SignedHeaders%3Dhost%26X-Goog-Signature%3D4f31916b9852ea4d84302d37b01790e95c8f8b27b297e1b376c2a58f9e3ce511844bd7865df03fa048180cd568a967268ec22842cab7d502b71598443f4111d208b13a644148eb25c344e3e46c9be0441e339bf1e7f73d85dccc41efb891b337950222cfa6f9d73865800ca8b0028320caf5b610d49df6a874d285b1ed98bac88083b68166214fc39fa4403a26313d9861ef3836bf47bb0564a3f81f21c109b2f8f637dd764f8b03cf2ee38b885d6495fcef92c348ca7b505f80f248e9074bf18260017f9e0d3da0cadc3beafb9f8967fb6c6b745466bd1a75297033e6544056fb229fe2a4c423d07980a2311685fb46b4d8012ab1c78e02ae2aa2404429403d'\n",
        "\n",
        "KAGGLE_INPUT_PATH='/kaggle/input'\n",
        "KAGGLE_WORKING_PATH='/kaggle/working'\n",
        "KAGGLE_SYMLINK='kaggle'\n",
        "\n",
        "!umount /kaggle/input/ 2> /dev/null\n",
        "shutil.rmtree('/kaggle/input', ignore_errors=True)\n",
        "os.makedirs(KAGGLE_INPUT_PATH, 0o777, exist_ok=True)\n",
        "os.makedirs(KAGGLE_WORKING_PATH, 0o777, exist_ok=True)\n",
        "\n",
        "try:\n",
        "  os.symlink(KAGGLE_INPUT_PATH, os.path.join(\"..\", 'input'), target_is_directory=True)\n",
        "except FileExistsError:\n",
        "  pass\n",
        "try:\n",
        "  os.symlink(KAGGLE_WORKING_PATH, os.path.join(\"..\", 'working'), target_is_directory=True)\n",
        "except FileExistsError:\n",
        "  pass\n",
        "\n",
        "for data_source_mapping in DATA_SOURCE_MAPPING.split(','):\n",
        "    directory, download_url_encoded = data_source_mapping.split(':')\n",
        "    download_url = unquote(download_url_encoded)\n",
        "    filename = urlparse(download_url).path\n",
        "    destination_path = os.path.join(KAGGLE_INPUT_PATH, directory)\n",
        "    try:\n",
        "        with urlopen(download_url) as fileres, NamedTemporaryFile() as tfile:\n",
        "            total_length = fileres.headers['content-length']\n",
        "            print(f'Downloading {directory}, {total_length} bytes compressed')\n",
        "            dl = 0\n",
        "            data = fileres.read(CHUNK_SIZE)\n",
        "            while len(data) > 0:\n",
        "                dl += len(data)\n",
        "                tfile.write(data)\n",
        "                done = int(50 * dl / int(total_length))\n",
        "                sys.stdout.write(f\"\\r[{'=' * done}{' ' * (50-done)}] {dl} bytes downloaded\")\n",
        "                sys.stdout.flush()\n",
        "                data = fileres.read(CHUNK_SIZE)\n",
        "            if filename.endswith('.zip'):\n",
        "              with ZipFile(tfile) as zfile:\n",
        "                zfile.extractall(destination_path)\n",
        "            else:\n",
        "              with tarfile.open(tfile.name) as tarfile:\n",
        "                tarfile.extractall(destination_path)\n",
        "            print(f'\\nDownloaded and uncompressed: {directory}')\n",
        "    except HTTPError as e:\n",
        "        print(f'Failed to load (likely expired) {download_url} to path {destination_path}')\n",
        "        continue\n",
        "    except OSError as e:\n",
        "        print(f'Failed to load {download_url} to path {destination_path}')\n",
        "        continue\n",
        "\n",
        "print('Data source import complete.')\n"
      ],
      "metadata": {
        "id": "sarabat9tx5T"
      },
      "cell_type": "code",
      "outputs": [],
      "execution_count": null
    },
    {
      "cell_type": "markdown",
      "source": [
        "# Import Libraries\n"
      ],
      "metadata": {
        "id": "Lxu4Ahgktx5X"
      }
    },
    {
      "cell_type": "code",
      "source": [
        "import numpy as np\n",
        "import matplotlib.pyplot as plt\n",
        "import pandas as pd"
      ],
      "metadata": {
        "_uuid": "8f2839f25d086af736a60e9eeb907d3b93b6e0e5",
        "_cell_guid": "b1076dfc-b9ad-4769-8c92-a6c4dae69d19",
        "execution": {
          "iopub.status.busy": "2024-01-26T20:00:55.813223Z",
          "iopub.execute_input": "2024-01-26T20:00:55.813647Z",
          "iopub.status.idle": "2024-01-26T20:00:56.234524Z",
          "shell.execute_reply.started": "2024-01-26T20:00:55.81361Z",
          "shell.execute_reply": "2024-01-26T20:00:56.2333Z"
        },
        "trusted": true,
        "id": "siFvd3Jptx5Y"
      },
      "execution_count": null,
      "outputs": []
    },
    {
      "cell_type": "markdown",
      "source": [
        "# Import and explore data"
      ],
      "metadata": {
        "id": "w7o44b5Ctx5Z"
      }
    },
    {
      "cell_type": "code",
      "source": [
        "# load train data\n",
        "df_train = pd.read_csv('/kaggle/input/digit-recognizer/train.csv')\n",
        "\n",
        "X = df_train.drop('label', axis=1)\n",
        "y = df_train['label']"
      ],
      "metadata": {
        "execution": {
          "iopub.status.busy": "2024-01-26T20:00:56.236749Z",
          "iopub.execute_input": "2024-01-26T20:00:56.23829Z",
          "iopub.status.idle": "2024-01-26T20:01:00.319506Z",
          "shell.execute_reply.started": "2024-01-26T20:00:56.238243Z",
          "shell.execute_reply": "2024-01-26T20:01:00.317964Z"
        },
        "trusted": true,
        "id": "UwdF0I3vtx5Z"
      },
      "execution_count": null,
      "outputs": []
    },
    {
      "cell_type": "code",
      "source": [
        "# View Unique Labels\n",
        "unique_labels = y.unique()\n",
        "print(\"Unique Labels:\", unique_labels)\n",
        "\n",
        "# Count of Each Label\n",
        "label_counts = y.value_counts()\n",
        "print(\"\\nLabel Counts:\\n\", label_counts)\n",
        "\n",
        "# Plotting the Distribution\n",
        "import matplotlib.pyplot as plt\n",
        "import seaborn as sns\n",
        "\n",
        "plt.figure(figsize=(8, 6))\n",
        "sns.countplot(x=y)\n",
        "plt.title(\"Label Distribution\")\n",
        "plt.show()\n"
      ],
      "metadata": {
        "execution": {
          "iopub.status.busy": "2024-01-26T20:01:00.321244Z",
          "iopub.execute_input": "2024-01-26T20:01:00.321765Z",
          "iopub.status.idle": "2024-01-26T20:01:01.336245Z",
          "shell.execute_reply.started": "2024-01-26T20:01:00.321726Z",
          "shell.execute_reply": "2024-01-26T20:01:01.335073Z"
        },
        "trusted": true,
        "id": "1CMM5oOEtx5Z"
      },
      "execution_count": null,
      "outputs": []
    },
    {
      "cell_type": "code",
      "source": [
        "from sklearn.model_selection import train_test_split\n",
        "\n",
        "X_train, X_validation, y_train, y_validation = train_test_split(X, y,\n",
        "                                                                test_size=0.1,\n",
        "                                                                random_state=42,\n",
        "                                                                stratify=y)"
      ],
      "metadata": {
        "execution": {
          "iopub.status.busy": "2024-01-26T20:01:01.337696Z",
          "iopub.execute_input": "2024-01-26T20:01:01.338679Z",
          "iopub.status.idle": "2024-01-26T20:01:01.915854Z",
          "shell.execute_reply.started": "2024-01-26T20:01:01.338641Z",
          "shell.execute_reply": "2024-01-26T20:01:01.914624Z"
        },
        "trusted": true,
        "id": "dP44RkW7tx5a"
      },
      "execution_count": null,
      "outputs": []
    },
    {
      "cell_type": "markdown",
      "source": [
        "# Data Normalization Preprocessing"
      ],
      "metadata": {
        "id": "QE_1HKsPtx5a"
      }
    },
    {
      "cell_type": "code",
      "source": [
        "def apply_preprocessing(X, y):\n",
        "\n",
        "    # scale the features\n",
        "    print(np.max(X))\n",
        "    X_scaled = np.array(X/255)\n",
        "    print('Shape:', X_scaled.shape)  # Corrected line\n",
        "    X_tensor = X_scaled.reshape(len(X_scaled), 28, 28, 1)\n",
        "    print('Shape:', X_tensor.shape)  # Corrected line\n",
        "\n",
        "    # apply one-hot encoding to labels\n",
        "    y_onehot = pd.get_dummies(y)\n",
        "\n",
        "    return X_tensor, y_onehot\n",
        "\n",
        "\n",
        "X_train_tensor, y_train_onehot = apply_preprocessing(X_train, y_train)\n",
        "X_validation_tensor, y_validation_onehot = apply_preprocessing(X_validation, y_validation)"
      ],
      "metadata": {
        "execution": {
          "iopub.status.busy": "2024-01-26T20:01:01.918411Z",
          "iopub.execute_input": "2024-01-26T20:01:01.918752Z",
          "iopub.status.idle": "2024-01-26T20:01:02.315993Z",
          "shell.execute_reply.started": "2024-01-26T20:01:01.918721Z",
          "shell.execute_reply": "2024-01-26T20:01:02.314216Z"
        },
        "trusted": true,
        "id": "de8x6hZ9tx5a"
      },
      "execution_count": null,
      "outputs": []
    },
    {
      "cell_type": "markdown",
      "source": [
        "# Check Data"
      ],
      "metadata": {
        "id": "xSgY3Wyrtx5b"
      }
    },
    {
      "cell_type": "code",
      "source": [
        "# show few digits\n",
        "for i in range(9):\n",
        "    plt.subplot(3, 3, i+1)\n",
        "    plt.imshow(X_train_tensor[i, :])\n"
      ],
      "metadata": {
        "execution": {
          "iopub.status.busy": "2024-01-26T20:01:02.317553Z",
          "iopub.execute_input": "2024-01-26T20:01:02.317926Z",
          "iopub.status.idle": "2024-01-26T20:01:03.471378Z",
          "shell.execute_reply.started": "2024-01-26T20:01:02.317895Z",
          "shell.execute_reply": "2024-01-26T20:01:03.469782Z"
        },
        "trusted": true,
        "id": "RGSYUh94tx5b"
      },
      "execution_count": null,
      "outputs": []
    },
    {
      "cell_type": "markdown",
      "source": [
        "# Create Model"
      ],
      "metadata": {
        "id": "Omu4HrXZtx5b"
      }
    },
    {
      "cell_type": "code",
      "source": [
        "from keras.layers import Dense, Conv2D,Flatten, AveragePooling2D, Dropout\n",
        "from keras.callbacks import EarlyStopping, ModelCheckpoint\n",
        "from keras.models import Sequential, load_model"
      ],
      "metadata": {
        "execution": {
          "iopub.status.busy": "2024-01-26T20:01:03.473729Z",
          "iopub.execute_input": "2024-01-26T20:01:03.474294Z",
          "iopub.status.idle": "2024-01-26T20:01:17.3214Z",
          "shell.execute_reply.started": "2024-01-26T20:01:03.474237Z",
          "shell.execute_reply": "2024-01-26T20:01:17.320313Z"
        },
        "trusted": true,
        "id": "vwOM3YDttx5b"
      },
      "execution_count": null,
      "outputs": []
    },
    {
      "cell_type": "code",
      "source": [
        "import tensorflow as tf\n",
        "\n",
        "def build_lenet(input_shape):\n",
        "    # Define Sequential Model\n",
        "    model = tf.keras.Sequential()\n",
        "\n",
        "    # C1 Convolution Layer\n",
        "    model.add(tf.keras.layers.Conv2D(filters=6, strides=(1, 1), kernel_size=(5, 5), activation='tanh', input_shape=input_shape))\n",
        "\n",
        "    # S2 SubSampling Layer\n",
        "    model.add(tf.keras.layers.AveragePooling2D(pool_size=(2, 2), strides=(2, 2)))\n",
        "\n",
        "    # C3 Convolution Layer\n",
        "    model.add(tf.keras.layers.Conv2D(filters=16, strides=(1, 1), kernel_size=(5, 5), activation='tanh'))\n",
        "\n",
        "    # S4 SubSampling Layer\n",
        "    model.add(tf.keras.layers.AveragePooling2D(pool_size=(2, 2), strides=(2, 2)))\n",
        "\n",
        "    # C5 Fully Connected Layer\n",
        "    model.add(tf.keras.layers.Flatten())\n",
        "    model.add(tf.keras.layers.Dense(units=120, activation='tanh'))\n",
        "\n",
        "    # FC6 Fully Connected Layers\n",
        "    model.add(tf.keras.layers.Dense(units=84, activation='tanh'))\n",
        "\n",
        "    # Output Layer\n",
        "    model.add(tf.keras.layers.Dense(units=10, activation='softmax'))\n",
        "\n",
        "    # Compile the Model using the legacy SGD optimizer\n",
        "    model.compile(loss='categorical_crossentropy', optimizer=tf.keras.optimizers.legacy.SGD(lr=0.1, momentum=0.0, decay=0.0), metrics=['accuracy'])\n",
        "\n",
        "    return model\n",
        "\n",
        "# Assuming your input shape is (28, 28, 1)\n",
        "input_shape = (28, 28, 1)\n",
        "lenet_model = build_lenet(input_shape)\n",
        "\n",
        "# Display model summary\n",
        "lenet_model.summary()\n"
      ],
      "metadata": {
        "execution": {
          "iopub.status.busy": "2024-01-26T20:02:02.684669Z",
          "iopub.execute_input": "2024-01-26T20:02:02.685166Z",
          "iopub.status.idle": "2024-01-26T20:02:02.823895Z",
          "shell.execute_reply.started": "2024-01-26T20:02:02.685127Z",
          "shell.execute_reply": "2024-01-26T20:02:02.822686Z"
        },
        "trusted": true,
        "id": "cqFTW3eYtx5b"
      },
      "execution_count": null,
      "outputs": []
    },
    {
      "cell_type": "markdown",
      "source": [
        "# Train the model"
      ],
      "metadata": {
        "id": "3cKEw9N0tx5c"
      }
    },
    {
      "cell_type": "code",
      "source": [
        "# Train the model for 10 epochs\n",
        "history = lenet_model.fit(X_train_tensor, y_train_onehot, epochs=10, batch_size=32, validation_data=(X_validation_tensor, y_validation_onehot))\n",
        "\n",
        "# Plot training history\n",
        "plt.figure(figsize=(12, 4))\n",
        "\n",
        "# Plot training & validation accuracy values\n",
        "plt.subplot(1, 2, 1)\n",
        "plt.plot(history.history['accuracy'], label='Training Accuracy')\n",
        "plt.plot(history.history['val_accuracy'], label='Validation Accuracy')\n",
        "plt.title('Model accuracy')\n",
        "plt.xlabel('Epoch')\n",
        "plt.ylabel('Accuracy')\n",
        "plt.legend()\n",
        "\n",
        "# Plot training & validation loss values\n",
        "plt.subplot(1, 2, 2)\n",
        "plt.plot(history.history['loss'], label='Training Loss')\n",
        "plt.plot(history.history['val_loss'], label='Validation Loss')\n",
        "plt.title('Model loss')\n",
        "plt.xlabel('Epoch')\n",
        "plt.ylabel('Loss')\n",
        "plt.legend()\n",
        "\n",
        "plt.show()"
      ],
      "metadata": {
        "execution": {
          "iopub.status.busy": "2024-01-26T20:13:55.491109Z",
          "iopub.execute_input": "2024-01-26T20:13:55.492222Z",
          "iopub.status.idle": "2024-01-26T20:16:18.761432Z",
          "shell.execute_reply.started": "2024-01-26T20:13:55.492166Z",
          "shell.execute_reply": "2024-01-26T20:16:18.760245Z"
        },
        "trusted": true,
        "id": "o4D-AjnPtx5c"
      },
      "execution_count": null,
      "outputs": []
    },
    {
      "cell_type": "markdown",
      "source": [
        "# Make predictions on the validation data\n"
      ],
      "metadata": {
        "id": "qZy_L9-Mtx5c"
      }
    },
    {
      "cell_type": "code",
      "source": [
        "predictions = lenet_model.predict(X_validation_tensor)\n",
        "\n",
        "# Convert predicted probabilities to class labels\n",
        "predicted_labels = tf.argmax(predictions, axis=1).numpy()\n",
        "\n",
        "# Calculate validation accuracy\n",
        "accuracy = np.sum(predicted_labels == y_validation) / len(y_validation)\n",
        "print(f'Validation Accuracy: {accuracy * 100:.2f}%')"
      ],
      "metadata": {
        "execution": {
          "iopub.status.busy": "2024-01-26T20:19:14.861849Z",
          "iopub.execute_input": "2024-01-26T20:19:14.862618Z",
          "iopub.status.idle": "2024-01-26T20:19:16.432306Z",
          "shell.execute_reply.started": "2024-01-26T20:19:14.862561Z",
          "shell.execute_reply": "2024-01-26T20:19:16.430856Z"
        },
        "trusted": true,
        "id": "as6eajKotx5c"
      },
      "execution_count": null,
      "outputs": []
    },
    {
      "cell_type": "markdown",
      "source": [
        "# Submit"
      ],
      "metadata": {
        "id": "E5OQkqF2tx5c"
      }
    },
    {
      "cell_type": "code",
      "source": [
        "# Create a DataFrame for submission\n",
        "submission_df = pd.DataFrame({'ImageId': np.arange(1, len(X_validation) + 1), 'Label': predicted_labels})\n",
        "\n",
        "# Save submission DataFrame to CSV\n",
        "submission_df.to_csv('submission.csv', index=False)\n",
        "\n",
        "# Display the submission DataFrame (optional)\n",
        "print(submission_df)\n",
        "\n"
      ],
      "metadata": {
        "execution": {
          "iopub.status.busy": "2024-01-26T20:22:37.371485Z",
          "iopub.execute_input": "2024-01-26T20:22:37.37197Z",
          "iopub.status.idle": "2024-01-26T20:22:37.39029Z",
          "shell.execute_reply.started": "2024-01-26T20:22:37.371925Z",
          "shell.execute_reply": "2024-01-26T20:22:37.388865Z"
        },
        "trusted": true,
        "id": "qFtKHyALtx5c"
      },
      "execution_count": null,
      "outputs": []
    }
  ]
}